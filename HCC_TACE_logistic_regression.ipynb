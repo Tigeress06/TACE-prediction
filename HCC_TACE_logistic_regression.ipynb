{
  "cells": [
    {
      "cell_type": "markdown",
      "metadata": {
        "id": "aWgXpCzh2uV-"
      },
      "source": [
        "Data Manipulation using given csv file from the Cancer Imaging Archive"
      ]
    },
    {
      "cell_type": "code",
      "execution_count": null,
      "metadata": {
        "id": "vqrgnA7EmvYR"
      },
      "outputs": [],
      "source": [
        "import pandas as pd\n",
        "import numpy as np\n",
        "import seaborn as sns\n",
        "import matplotlib.pyplot as plt\n",
        "import math"
      ]
    },
    {
      "cell_type": "code",
      "execution_count": null,
      "metadata": {
        "id": "so5rS5CAnP4_"
      },
      "outputs": [],
      "source": [
        "clinical_data = pd.read_csv('/content/HCC-TACE-Seg_clinical_data-V2-final.csv')\n",
        "clinical_data.head()"
      ]
    },
    {
      "cell_type": "code",
      "execution_count": null,
      "metadata": {
        "id": "_8lXK9DZoUGY"
      },
      "outputs": [],
      "source": [
        "hepatitis = pd.get_dummies(clinical_data['hepatitis'])\n",
        "hepatitis = hepatitis.iloc[: , :-1]\n",
        "hepatitis.head()"
      ]
    },
    {
      "cell_type": "code",
      "execution_count": null,
      "metadata": {
        "id": "A3lyVsY6pMCf"
      },
      "outputs": [],
      "source": [
        "age_group = pd.get_dummies(clinical_data['agegp'])\n",
        "age_group = age_group.drop(['<=40'], axis=1)\n",
        "age_group.head()"
      ]
    },
    {
      "cell_type": "code",
      "execution_count": null,
      "metadata": {
        "id": "w3T7hHT7sp_D"
      },
      "outputs": [],
      "source": [
        "chemo = pd.get_dummies(clinical_data['chemotherapy'])\n",
        "chemo.head()"
      ]
    },
    {
      "cell_type": "code",
      "execution_count": null,
      "metadata": {
        "id": "Jtw-Q3uAtV4c"
      },
      "outputs": [],
      "source": [
        "clinical_data = pd.concat([clinical_data, hepatitis, age_group, chemo], axis=1)\n",
        "clinical_data.head()"
      ]
    },
    {
      "cell_type": "code",
      "execution_count": null,
      "metadata": {
        "id": "vMiGRQWWuFJF"
      },
      "outputs": [],
      "source": [
        "clinical_data = clinical_data.drop(['TCIA_ID', 'hepatitis', 'agegp', 'AFP_group', 'chemotherapy'], axis=1)\n",
        "clinical_data.head()"
      ]
    },
    {
      "cell_type": "code",
      "execution_count": null,
      "metadata": {
        "id": "u6qGPU6830hl"
      },
      "outputs": [],
      "source": [
        "clinical_data.isna()"
      ]
    },
    {
      "cell_type": "code",
      "execution_count": null,
      "metadata": {
        "id": "lH7jUNz84VTN"
      },
      "outputs": [],
      "source": [
        "clinical_data = clinical_data.drop([105,106], axis = 0)\n",
        "clinical_data.isna()"
      ]
    },
    {
      "cell_type": "code",
      "execution_count": null,
      "metadata": {
        "id": "dgzNPHMd7G6K"
      },
      "outputs": [],
      "source": [
        "clinical_data = clinical_data.drop(['fhx_can', 'fhx_livc', 'Personal history of cancer'], axis=1)\n",
        "clinical_data.head()\n",
        "# 'Cisplastin', 'Cisplatin, Mitomycin-C','Cisplatin, doxorubicin, Mitomycin-C','doxorubicin LC beads'"
      ]
    },
    {
      "cell_type": "markdown",
      "source": [
        "Model Build"
      ],
      "metadata": {
        "id": "wlE1GmnkgmPs"
      }
    },
    {
      "cell_type": "code",
      "execution_count": null,
      "metadata": {
        "id": "MnQz621-KV8U"
      },
      "outputs": [],
      "source": [
        "X = clinical_data.drop('Censored_0_progressed_1', axis=1)\n",
        "Y = clinical_data['Censored_0_progressed_1']"
      ]
    },
    {
      "cell_type": "code",
      "execution_count": null,
      "metadata": {
        "id": "N7oTJrsaMcmm"
      },
      "outputs": [],
      "source": [
        "from sklearn.model_selection import train_test_split"
      ]
    },
    {
      "cell_type": "code",
      "execution_count": null,
      "metadata": {
        "id": "ZdxVPfXGMhzI"
      },
      "outputs": [],
      "source": [
        "X_train, X_test, Y_train, Y_test = train_test_split(X, Y, test_size=0.3, random_state=1)"
      ]
    },
    {
      "cell_type": "code",
      "source": [
        "from sklearn.linear_model import LogisticRegression\n",
        "log_reg_model = LogisticRegression(max_iter=2500,\n",
        "                                   random_state=42)"
      ],
      "metadata": {
        "id": "K4fizEemaHyj"
      },
      "execution_count": null,
      "outputs": []
    },
    {
      "cell_type": "code",
      "source": [
        "# Train (fit) the model\n",
        "log_reg_model.fit(X_train, Y_train)"
      ],
      "metadata": {
        "id": "_MvOcVeTaI-2"
      },
      "execution_count": null,
      "outputs": []
    },
    {
      "cell_type": "markdown",
      "source": [
        "Model Testing and Analysis"
      ],
      "metadata": {
        "id": "uef0filRgwSq"
      }
    },
    {
      "cell_type": "code",
      "source": [
        "y_pred = log_reg_model.predict(X_test) # Predictions\n",
        "y_true = Y_test # True values"
      ],
      "metadata": {
        "id": "7SL4EDm1aN_b"
      },
      "execution_count": null,
      "outputs": []
    },
    {
      "cell_type": "code",
      "source": [
        "from sklearn.metrics import accuracy_score\n",
        "from sklearn.metrics import precision_recall_fscore_support\n",
        "import numpy as np"
      ],
      "metadata": {
        "id": "W-9OK6L-aSPS"
      },
      "execution_count": null,
      "outputs": []
    },
    {
      "cell_type": "code",
      "source": [
        "print(\"Accuracy:\", np.round(accuracy_score(y_true, y_pred), 2))\n",
        "precision, recall, fscore, _ = precision_recall_fscore_support(y_true, y_pred,\n",
        "                                                               average='binary')\n",
        "print(\"Precision:\", np.round(precision, 2))\n",
        "print(\"Recall:\", np.round(recall, 2))\n",
        "print(\"F-Score:\", np.round(fscore, 2))\n",
        "\n",
        "# Make the confusion matrix\n",
        "import seaborn as sns\n",
        "import matplotlib.pyplot as plt\n",
        "from sklearn.metrics import confusion_matrix\n",
        "cf_matrix = confusion_matrix(y_true, y_pred)\n",
        "print(\"\\nConfusion Matrix\")\n",
        "sns.heatmap(cf_matrix, annot=True, cmap='Blues')\n",
        "plt.xlabel('Predicted', fontsize=12)\n",
        "plt.ylabel('True', fontsize=12)"
      ],
      "metadata": {
        "id": "vs6wN7osaU9x"
      },
      "execution_count": null,
      "outputs": []
    }
  ],
  "metadata": {
    "colab": {
      "provenance": [],
      "authorship_tag": "ABX9TyPpzx412xlkNajuxvRWKe0U"
    },
    "kernelspec": {
      "display_name": "Python 3",
      "name": "python3"
    },
    "language_info": {
      "name": "python"
    }
  },
  "nbformat": 4,
  "nbformat_minor": 0
}