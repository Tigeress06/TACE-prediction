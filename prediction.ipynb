{
  "nbformat": 4,
  "nbformat_minor": 0,
  "metadata": {
    "colab": {
      "provenance": [],
      "authorship_tag": "ABX9TyO1Gd4k62YHqC4eUYDfOT3I"
    },
    "kernelspec": {
      "name": "python3",
      "display_name": "Python 3"
    },
    "language_info": {
      "name": "python"
    }
  },
  "cells": [
    {
      "cell_type": "code",
      "execution_count": null,
      "metadata": {
        "id": "Qmksn2pn4DEp"
      },
      "outputs": [],
      "source": [
        "# imports\n",
        "import numpy as np\n",
        "import matplotlib.pyplot as plt\n",
        "import math\n",
        "from tensorflow import keras\n",
        "from keras.preprocessing.image import ImageDataGenerator\n",
        "from keras.applications.mobilenet import preprocess_input # makes images lightweight\n",
        "from keras.preprocessing import image\n",
        "from keras.models import load_model\n",
        "from keras.utils import load_img\n",
        "from keras.utils import img_to_array"
      ]
    },
    {
      "cell_type": "code",
      "source": [
        "# load the model\n",
        "model = load_model('HCC-TACE-prediction-model.h5')"
      ],
      "metadata": {
        "id": "xsT504RH4Qwg"
      },
      "execution_count": null,
      "outputs": []
    },
    {
      "cell_type": "code",
      "source": [
        "# preprocess CT image\n",
        "img_path = '/content/filename.dcm.png'\n",
        "img = load_img(img_path, target_size=(224, 224))\n",
        "img_array = img_to_array(img)\n",
        "img_batch = np.expand_dims(img_array, axis=0)\n",
        "img_preprocessed = preprocess_input(img_batch)"
      ],
      "metadata": {
        "id": "_495N2ayDG-r"
      },
      "execution_count": null,
      "outputs": []
    },
    {
      "cell_type": "code",
      "source": [
        "# predict TACE outcome of image\n",
        "prediction = model.predict(img_preprocessed)"
      ],
      "metadata": {
        "id": "_isSF_tUDhq_"
      },
      "execution_count": null,
      "outputs": []
    },
    {
      "cell_type": "code",
      "source": [
        "# round decimal prediction to 0 (TACE failure) or 1 (TACE success)\n",
        "for array in prediction:\n",
        "  for num in array:\n",
        "    rounded_pred = round(num)"
      ],
      "metadata": {
        "id": "_sYwX48ZD16j"
      },
      "execution_count": null,
      "outputs": []
    },
    {
      "cell_type": "code",
      "source": [
        "# display results with image\n",
        "if rounded_pred == 0:\n",
        "  print('The patient will probably exhibit TACE failure')\n",
        "else:\n",
        "  print('The patient will probably exhibit TACE success')\n",
        "\n",
        "plt.imshow(img)\n",
        "plt.title(\"CT scan image\")\n",
        "plt.show()"
      ],
      "metadata": {
        "id": "2kri7H8uJ_Y3"
      },
      "execution_count": null,
      "outputs": []
    }
  ]
}